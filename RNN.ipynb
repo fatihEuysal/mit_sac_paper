{
 "cells": [
  {
   "cell_type": "code",
   "execution_count": 31,
   "id": "d700889c",
   "metadata": {},
   "outputs": [],
   "source": [
    "import json\n",
    "import pandas as pd\n",
    "import numpy as np\n",
    "import torch\n",
    "import torch.nn as nn\n",
    "from sklearn.model_selection import train_test_split\n",
    "from sklearn.preprocessing import StandardScaler\n",
    "from torch.utils.data import Dataset, DataLoader"
   ]
  },
  {
   "cell_type": "code",
   "execution_count": 32,
   "id": "e1920f66",
   "metadata": {},
   "outputs": [
    {
     "name": "stdout",
     "output_type": "stream",
     "text": [
      "345 matches\n",
      "11059 minutes of home goal data\n",
      "9254 minutes of away goal data\n"
     ]
    }
   ],
   "source": [
    "df = pd.read_csv('all_time_series.csv')\n",
    "print(f'{df['match_id'].nunique()} matches')\n",
    "print(f'{len(df.dropna(subset=['time_to_home_goal']))//60} minutes of home goal data')\n",
    "print(f'{len(df.dropna(subset=['time_to_away_goal']))//60} minutes of away goal data')"
   ]
  },
  {
   "cell_type": "code",
   "execution_count": 33,
   "id": "fcba56ac",
   "metadata": {},
   "outputs": [
    {
     "name": "stdout",
     "output_type": "stream",
     "text": [
      "dropped 345344 rows without target: time_to_home_goal\n",
      "14 features: ['cumulative_possession_away', 'cumulative_possession_home', 'avg_pass_length_home', 'avg_pass_duration_home', 'cumulative_num_passes_home', 'avg_pass_length_away', 'avg_pass_duration_away', 'cumulative_num_passes_away', 'cumulative_shots_attempted_home', 'cumulative_shots_attempted_away', 'location_x_home', 'location_y_home', 'location_x_away', 'location_y_away']\n",
      "0 rows with missing feature value\n"
     ]
    }
   ],
   "source": [
    "# Pre-process inputs and split dataset into train/test\n",
    "target = \"time_to_home_goal\"\n",
    "print(f'dropped {df[target].isna().sum()} rows without target: {target}')\n",
    "df.dropna(subset=[target],inplace=True)\n",
    "\n",
    "features = [col for col in df.columns if col not in ['time_to_home_goal', 'time_to_away_goal', 'event_time', 'match_id', 'period']]\n",
    "print(f'{len(features)} features: {features}')\n",
    "\n",
    "\n",
    "#should print 0\n",
    "print(f'{len(df[df[features].isna().any(axis=1)])} rows with missing feature value')\n",
    "\n",
    "# Normalize numerical features\n",
    "scaler = StandardScaler()\n",
    "df[features] = scaler.fit_transform(df[features])"
   ]
  },
  {
   "cell_type": "code",
   "execution_count": 34,
   "id": "9e3d09de",
   "metadata": {},
   "outputs": [
    {
     "name": "stdout",
     "output_type": "stream",
     "text": [
      "Total segments: 386\n",
      "Train: 308 Test: 78\n"
     ]
    }
   ],
   "source": [
    "segments = df[[\"match_id\", \"period\"]].drop_duplicates()\n",
    "print(\"Total segments:\", len(segments))\n",
    "train_segments, test_segments = train_test_split(segments, test_size=0.2, random_state=42)\n",
    "print(\"Train:\", len(train_segments), \"Test:\", len(test_segments))\n",
    "\n",
    "train_df = df.merge(train_segments, on=[\"match_id\", \"period\"])\n",
    "test_df  = df.merge(test_segments, on=[\"match_id\", \"period\"])"
   ]
  },
  {
   "cell_type": "code",
   "execution_count": 35,
   "id": "81cdc8ea",
   "metadata": {},
   "outputs": [
    {
     "name": "stdout",
     "output_type": "stream",
     "text": [
      "(500563, 60, 14)\n",
      "(500563,)\n",
      "(140269, 60, 14)\n",
      "(140269,)\n"
     ]
    }
   ],
   "source": [
    "def create_sequences(df, target, features, seq_length):\n",
    "    X, y  = [], []\n",
    "    for (match_id, period), group in df.groupby([\"match_id\", \"period\"]):\n",
    "        group = group.sort_values(\"event_time\")\n",
    "        feature_array = group[features].to_numpy()\n",
    "        target_array = group[target].to_numpy()\n",
    "        \n",
    "        for i in range(len(group)-seq_length+1):\n",
    "            X.append(feature_array[i:i+seq_length])\n",
    "            y.append(target_array[i+seq_length-1])\n",
    "    return np.array(X), np.array(y)\n",
    "\n",
    "X_train, y_train = create_sequences(train_df, target, features, 60)\n",
    "X_test, y_test   = create_sequences(test_df, target, features, 60)\n",
    "\n",
    "print(X_train.shape)\n",
    "print(y_train.shape)\n",
    "print(X_test.shape)\n",
    "print(y_test.shape)"
   ]
  },
  {
   "cell_type": "code",
   "execution_count": 36,
   "id": "089b84d6",
   "metadata": {},
   "outputs": [],
   "source": [
    "class SoccerDataset(Dataset):\n",
    "    def __init__(self, X, y):\n",
    "        self.X = torch.tensor(X, dtype=torch.float32)\n",
    "        self.y = torch.tensor(y, dtype=torch.float32)\n",
    "    def __len__(self):\n",
    "        return len(self.X)\n",
    "    def __getitem__(self, idx):\n",
    "        return self.X[idx], self.y[idx]\n",
    "\n",
    "train_ds = SoccerDataset(X_train, y_train)\n",
    "test_ds = SoccerDataset(X_test, y_test)\n",
    "\n",
    "train_loader = DataLoader(train_ds, batch_size=32, shuffle=True)\n",
    "test_loader = DataLoader(test_ds, batch_size=32)\n"
   ]
  },
  {
   "cell_type": "code",
   "execution_count": 37,
   "id": "8793689d",
   "metadata": {},
   "outputs": [],
   "source": [
    "class GoalRNN(nn.Module):\n",
    "    def __init__(self, input_dim, hidden_dim=64, num_layers=2):\n",
    "        super().__init__()\n",
    "        self.lstm = nn.LSTM(input_dim, hidden_dim, num_layers, batch_first=True)\n",
    "        self.fc_layers = nn.Sequential(\n",
    "            nn.Linear(hidden_dim, 128),\n",
    "            nn.ReLU(),\n",
    "            nn.Dropout(0.3),\n",
    "            nn.Linear(128, 64),\n",
    "            nn.ReLU(),\n",
    "            nn.Linear(64, 1)  # regression output\n",
    "        )\n",
    "\n",
    "    def forward(self, x):\n",
    "        # x shape: (batch, seq_len, input_dim)\n",
    "        out, _ = self.lstm(x)\n",
    "        out = out[:, -1, :]   # last timestep\n",
    "        out = self.fc_layers(out)\n",
    "        return out\n",
    "    \n",
    "device = torch.device(\"cuda\" if torch.cuda.is_available() else \"cpu\")\n",
    "\n",
    "model = GoalRNN(input_dim=len(features), hidden_dim=64, num_layers=2).to(device)\n",
    "criterion = nn.MSELoss()\n",
    "optimizer = torch.optim.Adam(model.parameters(), lr=1e-3)"
   ]
  },
  {
   "cell_type": "code",
   "execution_count": 38,
   "id": "9fd33fa4",
   "metadata": {},
   "outputs": [
    {
     "name": "stdout",
     "output_type": "stream",
     "text": [
      "Epoch 1/20 | Train Loss: 268386.3128 | Test Loss: 474078.8880\n",
      "Epoch 2/20 | Train Loss: 170434.0689 | Test Loss: 532184.3030\n",
      "Epoch 3/20 | Train Loss: 106154.7185 | Test Loss: 564613.2242\n",
      "Epoch 4/20 | Train Loss: 65658.0566 | Test Loss: 534455.4346\n",
      "Epoch 5/20 | Train Loss: 48049.5779 | Test Loss: 547213.6632\n",
      "Epoch 6/20 | Train Loss: 32286.1319 | Test Loss: 544684.7588\n",
      "Epoch 7/20 | Train Loss: 24344.1837 | Test Loss: 556707.5353\n",
      "Epoch 8/20 | Train Loss: 19785.1560 | Test Loss: 566941.5578\n",
      "Epoch 9/20 | Train Loss: 17456.8563 | Test Loss: 563916.2226\n",
      "Epoch 10/20 | Train Loss: 15102.8052 | Test Loss: 546099.7909\n",
      "Epoch 11/20 | Train Loss: 14373.0420 | Test Loss: 555156.9070\n",
      "Epoch 12/20 | Train Loss: 11746.2593 | Test Loss: 549604.1413\n",
      "Epoch 13/20 | Train Loss: 10524.0190 | Test Loss: 564226.2588\n",
      "Epoch 14/20 | Train Loss: 9306.5787 | Test Loss: 550000.4805\n",
      "Epoch 15/20 | Train Loss: 10304.7629 | Test Loss: 560027.4071\n",
      "Epoch 16/20 | Train Loss: 8387.6166 | Test Loss: 564177.8511\n",
      "Epoch 17/20 | Train Loss: 8536.1617 | Test Loss: 568198.3204\n",
      "Epoch 18/20 | Train Loss: 8830.5885 | Test Loss: 568032.3935\n",
      "Epoch 19/20 | Train Loss: 6648.4813 | Test Loss: 542819.7779\n",
      "Epoch 20/20 | Train Loss: 7508.4445 | Test Loss: 554702.3950\n"
     ]
    }
   ],
   "source": [
    "def train_model(model, train_loader, test_loader, epochs=20):\n",
    "    train_losses, test_losses = [], []\n",
    "\n",
    "    for epoch in range(epochs):\n",
    "        # ---- TRAIN ----\n",
    "        model.train()\n",
    "        running_loss = 0.0\n",
    "        for X_batch, y_batch in train_loader:  # no tqdm here\n",
    "            X_batch, y_batch = X_batch.to(device), y_batch.to(device)\n",
    "\n",
    "            optimizer.zero_grad()\n",
    "            y_pred = model(X_batch).squeeze()\n",
    "            loss = criterion(y_pred, y_batch)\n",
    "            loss.backward()\n",
    "            optimizer.step()\n",
    "\n",
    "            running_loss += loss.item() * X_batch.size(0)\n",
    "\n",
    "        epoch_train_loss = running_loss / len(train_loader.dataset)\n",
    "        train_losses.append(epoch_train_loss)\n",
    "\n",
    "        # ---- EVAL ----\n",
    "        model.eval()\n",
    "        running_loss = 0.0\n",
    "        with torch.no_grad():\n",
    "            for X_batch, y_batch in test_loader:\n",
    "                X_batch, y_batch = X_batch.to(device), y_batch.to(device)\n",
    "                y_pred = model(X_batch).squeeze()\n",
    "                loss = criterion(y_pred, y_batch)\n",
    "                running_loss += loss.item() * X_batch.size(0)\n",
    "\n",
    "        epoch_test_loss = running_loss / len(test_loader.dataset)\n",
    "        test_losses.append(epoch_test_loss)\n",
    "\n",
    "        # simple logging per epoch\n",
    "        print(f\"Epoch {epoch+1}/{epochs} | Train Loss: {epoch_train_loss:.4f} | Test Loss: {epoch_test_loss:.4f}\")\n",
    "\n",
    "    return train_losses, test_losses, model\n",
    "\n",
    "\n",
    "train_losses, test_losses, model = train_model(model, train_loader, test_loader, epochs=20)\n"
   ]
  },
  {
   "cell_type": "code",
   "execution_count": 39,
   "id": "7ae6b4a8",
   "metadata": {},
   "outputs": [],
   "source": [
    "import torch\n",
    "\n",
    "# Save\n",
    "torch.save(model.state_dict(), 'model_state.pth')\n",
    "\n",
    "# # Load\n",
    "# model = GoalRNN(input_dim=len(features), hidden_dim=64, num_layers=2)  # re-instantiate model\n",
    "# model.load_state_dict(torch.load('model_state.pth'))\n",
    "# model.eval()  # set to evaluation mode\n"
   ]
  }
 ],
 "metadata": {
  "kernelspec": {
   "display_name": "venv (3.12.7)",
   "language": "python",
   "name": "python3"
  },
  "language_info": {
   "codemirror_mode": {
    "name": "ipython",
    "version": 3
   },
   "file_extension": ".py",
   "mimetype": "text/x-python",
   "name": "python",
   "nbconvert_exporter": "python",
   "pygments_lexer": "ipython3",
   "version": "3.12.7"
  }
 },
 "nbformat": 4,
 "nbformat_minor": 5
}
